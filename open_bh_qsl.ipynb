{
 "cells": [
  {
   "cell_type": "code",
   "execution_count": 21,
   "id": "24c5aae9-2351-47a5-866f-aa29109c3496",
   "metadata": {},
   "outputs": [],
   "source": [
    "import numpy as np\n",
    "from quspin.operators import hamiltonian\n",
    "from quspin.basis import boson_basis_1d, tensor_basis\n",
    "from scipy.linalg import expm\n",
    "#from quspin.tools.measurements import partial_trace\n",
    "from scipy import integrate\n",
    "import matplotlib.pyplot as plt\n",
    "\n"
   ]
  },
  {
   "cell_type": "code",
   "execution_count": 331,
   "id": "e31fa9c8-fa88-49a9-9ec4-2928f9a5947b",
   "metadata": {
    "tags": []
   },
   "outputs": [],
   "source": [
    "# Parameters\n",
    "\n",
    " # Number of sites in the system\n",
    "L_sys = 1 \n",
    "\n",
    "# Number of sites in the bath\n",
    "L_bath = 2     \n",
    "\n",
    "# Maximum number of bosons on the site\n",
    "nmax = 2  \n",
    "\n",
    "# On-site interaction strength\n",
    "U = 3.0 \n",
    "\n",
    "#hopping strength\n",
    "J = 1.0\n",
    "\n",
    "\n",
    "mu = U "
   ]
  },
  {
   "cell_type": "markdown",
   "id": "69d78a21-ebc3-4060-8519-2db8d6147c5b",
   "metadata": {},
   "source": [
    "Start by setting up the Hamiltonian for the single site system given by:\n",
    "$$\n",
    "H_{A} = \\frac{U}{2}n(n-1)\n",
    "$$"
   ]
  },
  {
   "cell_type": "code",
   "execution_count": 332,
   "id": "0709969b-962c-41c9-9643-b592867a6b0e",
   "metadata": {
    "tags": []
   },
   "outputs": [
    {
     "name": "stdout",
     "output_type": "stream",
     "text": [
      "Hermiticity check passed!\n",
      "Symmetry checks passed!\n"
     ]
    }
   ],
   "source": [
    "# Define the basis for one site with max nmax bosons\n",
    "basis_sys = boson_basis_1d(L_sys, Nb=None, sps=nmax + 1)\n",
    "\n",
    "# Define the potential term: U/2 * n(n-1)\n",
    "potential = [[0.5 * U, 0, 0]]  # Interaction term\n",
    "\n",
    "# Define the chemical potential term: -mu * n\n",
    "chemical_potential = [[-0.5*U, 0]]  # Chemical potential term\n",
    "\n",
    "# Define the static list for the Hamiltonian\n",
    "static = [\n",
    "    [\"nn\", potential],          # Potential term\n",
    "    [\"n\", chemical_potential],  # Chemical potential term\n",
    "]\n",
    "\n",
    "# Construct the Hamiltonian\n",
    "H_sys = hamiltonian(static, [], basis=basis_sys, dtype=np.float64)\n",
    "\n"
   ]
  },
  {
   "cell_type": "code",
   "execution_count": 333,
   "id": "ab573e8f-7c3e-45cc-afbe-8e4de77450dc",
   "metadata": {
    "tags": []
   },
   "outputs": [
    {
     "name": "stdout",
     "output_type": "stream",
     "text": [
      "\n",
      "Basis states for the system(n values):\n",
      "|2>\n",
      "|1>\n",
      "|0>\n"
     ]
    }
   ],
   "source": [
    "# Print the basis states for verification\n",
    "print(\"\\nBasis states for the system(n values):\")\n",
    "for state in basis_sys.states:\n",
    "    print(basis_sys.int_to_state(state))"
   ]
  },
  {
   "cell_type": "markdown",
   "id": "ff4ed157-ec8e-464a-a18f-145551c08e63",
   "metadata": {},
   "source": [
    "Next we setup the Hamiltonian for the bath which is a Bose-Hubbard model given by:\n",
    "$$\n",
    "H_{B} = -J\\sum_{i}(b_{i}b^{\\dagger}_{i+1}+b_{i}^{\\dagger}b_{i+1}) +\\frac{U}{2}n(n-1)\n",
    "$$"
   ]
  },
  {
   "cell_type": "code",
   "execution_count": 334,
   "id": "29f2308c-ff33-4d9f-ab0b-f078d2604b33",
   "metadata": {
    "tags": []
   },
   "outputs": [
    {
     "name": "stdout",
     "output_type": "stream",
     "text": [
      "Hermiticity check passed!\n",
      "Symmetry checks passed!\n"
     ]
    }
   ],
   "source": [
    "# Define the basis for L sites with max nmax bosons\n",
    "basis_bath = boson_basis_1d(L_bath, Nb=None, sps=nmax + 1)\n",
    "\n",
    "# Define the hopping term: -J * (b_i^† b_j + h.c.)\n",
    "hopping = [[-J, i, i + 1] for i in range(L_bath - 1)]  # Nearest-neighbor hopping\n",
    "\n",
    "# Define the on-site interaction term: U/2 * n_i * (n_i - 1)\n",
    "interaction = [[0.5 * U, i, i] for i in range(L_bath)]  # On-site interactions\n",
    "\n",
    "# Define the chemical potential term: -mu * n_i\n",
    "chemical_potential_bath = [[-mu, i] for i in range(L_bath)]  # Chemical potential\n",
    "\n",
    "# Define the static list for the Hamiltonian\n",
    "static = [\n",
    "    [\"+-\", hopping],     # Hopping term (b_i^† b_j)\n",
    "    [\"-+\", hopping],     # Hopping term (b_j^† b_i)\n",
    "    [\"nn\", interaction], # On-site interaction term\n",
    "    [\"n\", chemical_potential_bath], # Chemical potential term\n",
    "]\n",
    "\n",
    "# Construct the bath Hamiltonian\n",
    "H_bath = hamiltonian(static, [], basis=basis_bath, dtype=np.float64)\n",
    "\n",
    "\n"
   ]
  },
  {
   "cell_type": "code",
   "execution_count": 335,
   "id": "bc8c170e-0118-4e2e-b295-caefc817081b",
   "metadata": {
    "tags": []
   },
   "outputs": [
    {
     "name": "stdout",
     "output_type": "stream",
     "text": [
      "\n",
      "Basis states for the bath(n values):\n",
      "|2 2>\n",
      "|2 1>\n",
      "|2 0>\n",
      "|1 2>\n",
      "|1 1>\n",
      "|1 0>\n",
      "|0 2>\n",
      "|0 1>\n",
      "|0 0>\n"
     ]
    }
   ],
   "source": [
    "# Print the basis states for verification\n",
    "print(\"\\nBasis states for the bath(n values):\")\n",
    "for state in basis_bath.states:  # Print the first 10 states for brevity\n",
    "    print(basis_bath.int_to_state(state))"
   ]
  },
  {
   "cell_type": "markdown",
   "id": "6082e33b-1020-4606-a944-8232641e3fc4",
   "metadata": {},
   "source": [
    "Create a basis for system+bath which is obtained by tensoring all possible basis states"
   ]
  },
  {
   "cell_type": "code",
   "execution_count": 336,
   "id": "ab896673-dc35-470c-9e0d-998ca661b625",
   "metadata": {
    "tags": []
   },
   "outputs": [],
   "source": [
    "basis_total = tensor_basis(basis_sys, basis_bath)\n"
   ]
  },
  {
   "cell_type": "markdown",
   "id": "cfbd0bcc-ba9c-488c-8d02-7ccc1a33d36f",
   "metadata": {},
   "source": [
    "Construct annihilation and creation operators for system and bath"
   ]
  },
  {
   "cell_type": "code",
   "execution_count": 337,
   "id": "bd716cd4-0070-4dc6-bc7e-4221967434bf",
   "metadata": {
    "tags": []
   },
   "outputs": [
    {
     "name": "stdout",
     "output_type": "stream",
     "text": [
      "Symmetry checks passed!\n",
      "Symmetry checks passed!\n"
     ]
    }
   ],
   "source": [
    "create_sys = hamiltonian([[\"+\", [[1.0, 0]]]], [], basis=basis_sys, dtype=np.float64, check_herm=False)\n",
    "annih_sys = hamiltonian([[\"-\", [[1.0, 0]]]], [], basis=basis_sys, dtype=np.float64, check_herm=False)"
   ]
  },
  {
   "cell_type": "code",
   "execution_count": 338,
   "id": "6e63c3ff-37b6-4a3c-b351-aead0d46b8fd",
   "metadata": {
    "tags": []
   },
   "outputs": [
    {
     "name": "stdout",
     "output_type": "stream",
     "text": [
      "Symmetry checks passed!\n",
      "Symmetry checks passed!\n"
     ]
    }
   ],
   "source": [
    "create_bath = hamiltonian(\n",
    "    [[\"+\", [[1.0 if i == 0 else 0.0, i] for i in range(L_bath)]]],\n",
    "    [],\n",
    "    basis=basis_bath,\n",
    "    dtype=np.float64,\n",
    "    check_herm=False,\n",
    "    check_pcon=False\n",
    ")\n",
    "\n",
    "# Define the annihilation operator explicitly for site 0 of the bath\n",
    "annih_bath = hamiltonian(\n",
    "    [[\"-\", [[1.0 if i == 0 else 0.0, i] for i in range(L_bath)]]],\n",
    "    [],\n",
    "    basis=basis_bath,\n",
    "    dtype=np.float64,\n",
    "    check_herm=False,\n",
    "    check_pcon=False\n",
    ")\n",
    "\n"
   ]
  },
  {
   "cell_type": "code",
   "execution_count": 339,
   "id": "470e9342-f684-4daf-b981-16cd9142bbab",
   "metadata": {
    "tags": []
   },
   "outputs": [
    {
     "name": "stdout",
     "output_type": "stream",
     "text": [
      "System Creation Operator Matrix (b^†_sys):\n",
      "[[0.         1.41421356 0.        ]\n",
      " [0.         0.         1.        ]\n",
      " [0.         0.         0.        ]]\n",
      "\n",
      "System Annihilation Operator Matrix (b_sys):\n",
      "[[0.         0.         0.        ]\n",
      " [1.41421356 0.         0.        ]\n",
      " [0.         1.         0.        ]]\n",
      "\n",
      "Bath Creation Operator Matrix (b^†_bath):\n",
      "[[0.         0.         0.         1.41421356 0.         0.\n",
      "  0.         0.         0.        ]\n",
      " [0.         0.         0.         0.         1.41421356 0.\n",
      "  0.         0.         0.        ]\n",
      " [0.         0.         0.         0.         0.         1.41421356\n",
      "  0.         0.         0.        ]\n",
      " [0.         0.         0.         0.         0.         0.\n",
      "  1.         0.         0.        ]\n",
      " [0.         0.         0.         0.         0.         0.\n",
      "  0.         1.         0.        ]\n",
      " [0.         0.         0.         0.         0.         0.\n",
      "  0.         0.         1.        ]\n",
      " [0.         0.         0.         0.         0.         0.\n",
      "  0.         0.         0.        ]\n",
      " [0.         0.         0.         0.         0.         0.\n",
      "  0.         0.         0.        ]\n",
      " [0.         0.         0.         0.         0.         0.\n",
      "  0.         0.         0.        ]]\n",
      "\n",
      "Bath Annihilation Operator Matrix (b_bath):\n",
      "[[0.         0.         0.         0.         0.         0.\n",
      "  0.         0.         0.        ]\n",
      " [0.         0.         0.         0.         0.         0.\n",
      "  0.         0.         0.        ]\n",
      " [0.         0.         0.         0.         0.         0.\n",
      "  0.         0.         0.        ]\n",
      " [1.41421356 0.         0.         0.         0.         0.\n",
      "  0.         0.         0.        ]\n",
      " [0.         1.41421356 0.         0.         0.         0.\n",
      "  0.         0.         0.        ]\n",
      " [0.         0.         1.41421356 0.         0.         0.\n",
      "  0.         0.         0.        ]\n",
      " [0.         0.         0.         1.         0.         0.\n",
      "  0.         0.         0.        ]\n",
      " [0.         0.         0.         0.         1.         0.\n",
      "  0.         0.         0.        ]\n",
      " [0.         0.         0.         0.         0.         1.\n",
      "  0.         0.         0.        ]]\n"
     ]
    }
   ],
   "source": [
    "create_sys_matrix = create_sys.toarray()\n",
    "annih_sys_matrix = annih_sys.toarray()\n",
    "\n",
    "create_bath_matrix = create_bath.toarray()\n",
    "annih_bath_matrix = annih_bath.toarray()\n",
    "\n",
    "# Print the operator matrices\n",
    "print(\"System Creation Operator Matrix (b^†_sys):\")\n",
    "print(create_sys_matrix)\n",
    "\n",
    "print(\"\\nSystem Annihilation Operator Matrix (b_sys):\")\n",
    "print(annih_sys_matrix)\n",
    "\n",
    "print(\"\\nBath Creation Operator Matrix (b^†_bath):\")\n",
    "print(create_bath_matrix)\n",
    "\n",
    "print(\"\\nBath Annihilation Operator Matrix (b_bath):\")\n",
    "print(annih_bath_matrix)"
   ]
  },
  {
   "cell_type": "markdown",
   "id": "5a79ca06-b501-4340-9ed4-d0909618cab1",
   "metadata": {},
   "source": [
    "Create the interaction Hamiltonian between system and bath which is given by:\n",
    "$$\n",
    "H_{int} = -J(ab^{\\dagger}+a^{\\dagger}b)\n",
    "$$"
   ]
  },
  {
   "cell_type": "code",
   "execution_count": 340,
   "id": "b3a6d664-a3ec-4639-997e-cfa3558ca13e",
   "metadata": {
    "tags": []
   },
   "outputs": [],
   "source": [
    "H_int = -J * (\n",
    "    np.kron(create_sys.toarray(), annih_bath.toarray()) +\n",
    "    np.kron(annih_sys.toarray(), create_bath.toarray())\n",
    ")"
   ]
  },
  {
   "cell_type": "markdown",
   "id": "9b8c9842-9349-4563-984d-e0189d272cca",
   "metadata": {},
   "source": [
    "The full Hamiltonian for the system+bath is given by:\n",
    "$$\n",
    "H_{\\text{full}} = H_{A} + H_{B} + H_{int} \n",
    "$$"
   ]
  },
  {
   "cell_type": "code",
   "execution_count": 341,
   "id": "afbe528f-dc42-46c3-9a88-00d42273a4f1",
   "metadata": {
    "tags": []
   },
   "outputs": [],
   "source": [
    "H_full =   np.kron(H_sys.toarray(), np.eye(H_bath.toarray().shape[0])) + np.kron(np.eye(H_sys.toarray().shape[0]), H_bath.toarray())+ H_int \n"
   ]
  },
  {
   "cell_type": "markdown",
   "id": "6dea1f93-aaac-4341-8aba-4dda6e7b4022",
   "metadata": {},
   "source": [
    "Intialise the system in the state \n",
    "$$\n",
    "\\rho_{A} = |1><1|\n",
    "$$"
   ]
  },
  {
   "cell_type": "code",
   "execution_count": 342,
   "id": "b47df505-1dba-45bc-90d4-3d63799e629c",
   "metadata": {
    "tags": []
   },
   "outputs": [],
   "source": [
    "# Initialize the system with 1 boson\n",
    "initial_sys_state = np.zeros((nmax + 1,))\n",
    "initial_sys_state[1] = 1  # 1 boson in the system\n",
    "initial_sys_rho = np.outer(initial_sys_state, initial_sys_state.conj())"
   ]
  },
  {
   "cell_type": "markdown",
   "id": "a98f27da-404f-42a8-94e2-e81a7a0c6c6e",
   "metadata": {},
   "source": [
    "Initialise the bath in a thermal state"
   ]
  },
  {
   "cell_type": "code",
   "execution_count": 343,
   "id": "99d2f4ec-bdb2-45af-802d-a01d74bf9839",
   "metadata": {
    "tags": []
   },
   "outputs": [],
   "source": [
    "beta = 1.0  # Inverse temperature\n",
    "H_bath_matrix = H_bath.toarray()\n",
    "eigenvalues, eigenvectors = np.linalg.eigh(H_bath_matrix)\n",
    "z_partition = np.sum(np.exp(-beta * eigenvalues))\n",
    "rho_bath = np.zeros_like(H_bath_matrix)\n",
    "for i in range(len(eigenvalues)):\n",
    "    rho_bath += np.exp(-beta * eigenvalues[i]) * np.outer(eigenvectors[:, i], eigenvectors[:, i].conj())\n",
    "rho_bath /= z_partition  # Normalize the thermal state\n"
   ]
  },
  {
   "cell_type": "markdown",
   "id": "316198c1-39b0-43b5-a11e-07dc9d8d735f",
   "metadata": {},
   "source": [
    "The intial state of the joint system+bath is \n",
    "$$\n",
    "\\rho_{AB}(0) =\\rho_{A}\\otimes\\rho_{B}\n",
    "$$"
   ]
  },
  {
   "cell_type": "code",
   "execution_count": 344,
   "id": "6b25cc68-ca66-4027-8da3-f1078205860c",
   "metadata": {
    "tags": []
   },
   "outputs": [],
   "source": [
    "# Construct the initial total density matrix\n",
    "rho_initial = np.kron(initial_sys_rho, rho_bath)"
   ]
  },
  {
   "cell_type": "markdown",
   "id": "d0069a47-e2ac-453b-ab20-8e65a8b741e8",
   "metadata": {},
   "source": [
    "Perform a quench on the initial state\n",
    "$$\n",
    "\\rho_{AB}^{Q}(0)\\rightarrow a^{\\dagger}\\rho_{AB}(0)a\n",
    "$$"
   ]
  },
  {
   "cell_type": "code",
   "execution_count": 345,
   "id": "fb200b8b-18b1-4707-bcfe-bdf81ca843c1",
   "metadata": {
    "tags": []
   },
   "outputs": [],
   "source": [
    "\n",
    "\n",
    "I_bath = np.eye(H_bath.toarray().shape[0])\n",
    "\n",
    "# Expand creation and annihilation operators to the full Hilbert space\n",
    "create_sys_ext = np.kron(create_sys.toarray(), I_bath)\n",
    "annih_sys_ext = np.kron(annih_sys.toarray(), I_bath)\n",
    "\n",
    "# Apply quench operation correctly\n",
    "rho_quenched = create_sys_ext @ rho_initial @ annih_sys_ext"
   ]
  },
  {
   "cell_type": "markdown",
   "id": "b092081f-0e00-4baf-80ae-c9b51f8497f3",
   "metadata": {},
   "source": [
    "Function for time evolution in the interaction picture\n",
    "$$\n",
    "\\rho_{AB}^{I}(t) = U_{I}\\rho_{AB}^{I}(0)U_{I}^{\\dagger}\n",
    "$$"
   ]
  },
  {
   "cell_type": "code",
   "execution_count": 346,
   "id": "5d3bf6ea-c675-4a7d-bd71-0e4a564974a1",
   "metadata": {
    "tags": []
   },
   "outputs": [],
   "source": [
    "def evolve_density_matrix(rho, H, H_sys,H_bath, t):\n",
    "    \"\"\"Evolves the density matrix rho up to time t under Hamiltonian H.\"\"\"\n",
    "    U_t = expm(-1j * H * t)\n",
    "    U0_t = expm(-1j * np.kron(H_sys.toarray(), np.eye(H_bath.toarray().shape[0]) ) * t)\n",
    "    prop_t = (U0_t.conj().T)@U_t\n",
    "    rho_t = prop_t @ rho @ prop_t.conj().T\n",
    "    return rho_t\n",
    "\n",
    "\n"
   ]
  },
  {
   "cell_type": "code",
   "execution_count": 357,
   "id": "f576dbe3-dc74-4922-9373-dff88cc4a36a",
   "metadata": {
    "tags": []
   },
   "outputs": [],
   "source": [
    "t_stop = 1.0              # final time\n",
    "num_points = 30            # number of points (including t=0)\n",
    "time_points = np.linspace(0, t_stop, num_points)\n"
   ]
  },
  {
   "cell_type": "markdown",
   "id": "1df8a7cf-62d4-460c-88d6-50fc2b12ef1b",
   "metadata": {},
   "source": [
    "Here, we compute OTOC from quenched Renyi-2 entropy:\n",
    "$$\n",
    "S_{A}^{(2)}(t) = -ln\\Big({Tr{\\rho_{A}^{2}(t)}\\Big)}\n",
    "$$\n",
    "\n",
    "$$\n",
    "OTOC(t) = e^{-S_{A}^{2}(t)}\n",
    "$$"
   ]
  },
  {
   "cell_type": "code",
   "execution_count": 358,
   "id": "5506fd22-78f4-4b7b-bc2e-217ac6e04592",
   "metadata": {
    "tags": []
   },
   "outputs": [
    {
     "data": {
      "image/png": "[encoded data removed]",
      "text/plain": [
       "<Figure size 640x480 with 1 Axes>"
      ]
     },
     "metadata": {},
     "output_type": "display_data"
    }
   ],
   "source": [
    "otoc_values = []\n",
    "\n",
    "for t in time_points:\n",
    "    # Evolve density matrix directly up to time t\n",
    "    rho_t = evolve_density_matrix(rho_initial, H_full, H_sys, H_bath, t)\n",
    "    \n",
    "    # Partial trace over bath, keeping the \"left\" subsystem (the system)\n",
    "    rho_sys = basis_total.partial_trace(\n",
    "        rho_t, \n",
    "        sub_sys_A=\"left\", \n",
    "        return_rdm=\"A\", \n",
    "        enforce_pure=False\n",
    "    )\n",
    "    \n",
    "    # Rényi-2 Entropy = -log(Tr(rho_sys^2))\n",
    "    trace_rho_sys_sq = np.trace(rho_sys @ rho_sys)\n",
    "    S2 = -np.log(trace_rho_sys_sq.real)  # ensure real part\n",
    "    otoc_values.append(np.exp(-S2))\n",
    "\n",
    "# Plot\n",
    "plt.plot(time_points, otoc_values, 'o-')\n",
    "plt.xlabel(\"Time\")\n",
    "plt.ylabel(\"OTOC\")\n",
    "plt.title(\"OTOC vs. Time\")\n",
    "\n",
    "plt.grid()\n",
    "plt.show()"
   ]
  },
  {
   "cell_type": "code",
   "execution_count": 359,
   "id": "1fa556af-fd52-4663-bba8-e85dc9dfa2d3",
   "metadata": {
    "tags": []
   },
   "outputs": [],
   "source": [
    "def heisenberg_picture(op, H, time):\n",
    "        \"\"\"Heisenberg-evolved operator: op(time) = e^{+iHt} op e^{-iHt}.\"\"\"\n",
    "        U = expm(+1j * H.toarray() * time)        \n",
    "        Udag = U.conj().T              \n",
    "        return U @ op.toarray() @ Udag"
   ]
  },
  {
   "cell_type": "markdown",
   "id": "73051eea-c1a6-4def-98e5-2b53cee17317",
   "metadata": {},
   "source": [
    "Function for two types of bath correlation functions:\n",
    "$$\n",
    "\\begin{align}\n",
    "    &\\Gamma_{1}(t,s) = \\langle b_{2}(s)b^{\\dagger}_{2}(t)\\rangle_{\\rho_{B}}\\\\\n",
    "    &\\Gamma_{2}(t,s) = \\langle b^{\\dagger}_{2}(s)b_{2}(t)\\rangle_{\\rho_{B}}\n",
    "\\end{align}\n",
    "$$"
   ]
  },
  {
   "cell_type": "code",
   "execution_count": 360,
   "id": "f1826e47-66e1-408c-9897-f1b06cfc48fe",
   "metadata": {
    "tags": []
   },
   "outputs": [],
   "source": [
    "import numpy as np\n",
    "from scipy.linalg import expm\n",
    "\n",
    "def two_point_corr(H_bath, rho, b, bdag, t, s, corr_type):\n",
    "    \n",
    "    \n",
    "\n",
    "    # Evolve operators in Heisenberg picture\n",
    "    if corr_type == \"b_bdag\":\n",
    "        # O1(t) = bdag(t), O2(s) = b(s)\n",
    "        O1_t = heisenberg_picture(bdag, H_bath, t)\n",
    "        O2_s = heisenberg_picture(b,    H_bath, s)\n",
    "    elif corr_type == \"bdag_b\":\n",
    "        # O1(t) = b(t), O2(s) = bdag(s)\n",
    "        O1_t = heisenberg_picture(b,    H_bath, t)\n",
    "        O2_s = heisenberg_picture(bdag, H_bath, s)\n",
    "    else:\n",
    "        raise ValueError(\"corr_type must be 'bdag_b' or 'b_bdag'.\")\n",
    "\n",
    "    # Compute the trace with respect to rho: Tr[ O1_t O2_s rho ]\n",
    "    corr_val = np.trace(O2_s @ O1_t @ rho)\n",
    "    return corr_val\n"
   ]
  },
  {
   "cell_type": "markdown",
   "id": "b1e2065f-a720-406c-be5b-a85185d54ff7",
   "metadata": {
    "tags": []
   },
   "source": [
    "Function for the Liouvillian superoperator:\n",
    "$$\n",
    "\\begin{align*}\n",
    "    \\mathcal{H}(t)  &= J^{2}\\int_{0}^{t} ds \\, \\Big[ \\Gamma_{1}(t,s) \\left\\{ a^{\\dagger}(s)\\otimes a(t) - I\\otimes a^{\\dagger}(s)a(t) \\right\\} \\nonumber \\\\\n",
    "    &\\quad + \\Gamma_{1}^{*}(t,s) \\left\\{ a^{\\dagger}(t)\\otimes a(s) - a^{\\dagger}(t)a(s)\\otimes I \\right\\} \\nonumber \\\\\n",
    "    &\\quad + \\Gamma_{2}(t,s) \\left\\{ a(s)\\otimes a^{\\dagger}(t) - I\\otimes a(s)a^{\\dagger}(t) \\right\\} \\nonumber \\\\\n",
    "    &\\quad + \\Gamma_{2}^{*}(t,s) \\left\\{ a(t)\\otimes a^{\\dagger}(s) - a(t)a^{\\dagger}(s)\\otimes I \\right\\} \\Big]\n",
    "\\end{align*}\n",
    "$$"
   ]
  },
  {
   "cell_type": "code",
   "execution_count": 361,
   "id": "58b9b471-e79d-4da2-a5c0-2987819e8668",
   "metadata": {
    "tags": []
   },
   "outputs": [],
   "source": [
    "def liouv_superop(t1, t2, J, HB, HS, rho, A, B):\n",
    "    bath_corr_1  = two_point_corr(HB, rho, A, B, t1, t2, \"b_bdag\")\n",
    "    bath_corr_2  = two_point_corr(HB, rho, A, B, t1, t2, \"bdag_b\")\n",
    "    \n",
    "    create_sys_t1 = heisenberg_picture(create_sys, H_sys, t1)\n",
    "    create_sys_t2 = heisenberg_picture(create_sys, H_sys, t2)\n",
    "    \n",
    "    annih_sys_t1 = heisenberg_picture(annih_sys, H_sys, t1)\n",
    "    annih_sys_t2 = heisenberg_picture(annih_sys, H_sys, t2)\n",
    "    \n",
    "    I_liouv = np.eye(create_sys.toarray().shape[0])\n",
    "    \n",
    "    term1 = bath_corr_1 * ( np.kron(create_sys_t2, annih_sys_t1) - np.kron(I_liouv, create_sys_t2*annih_sys_t1) )\n",
    "    term2 = np.conj(bath_corr_1) * ( np.kron(create_sys_t1, annih_sys_t2) - np.kron(create_sys_t1*annih_sys_t2, I_liouv) )\n",
    "    term3 = bath_corr_2 * ( np.kron(annih_sys_t2, create_sys_t1) - np.kron(I_liouv, annih_sys_t2*create_sys_t1) )\n",
    "    term4 = np.conj(bath_corr_2) * ( np.kron(annih_sys_t1, create_sys_t2) - np.kron(annih_sys_t1*create_sys_t2, I_liouv) )\n",
    "    \n",
    "    superop =  J*J*( term1 + term2 + term3 + term4)\n",
    "    \n",
    "    return superop - superop.conj().T\n",
    "    "
   ]
  },
  {
   "cell_type": "markdown",
   "id": "d5035e6a-3f0b-4263-8a22-5a75cd788ba9",
   "metadata": {},
   "source": [
    "Function for the double nested integration required for QSL:\n",
    "$$\n",
    "\\int_{0}^{t}dt\\lVert\\mathcal{H}(t)-\\mathcal{H}^{\\dagger}(t)\\rVert_{sp}\n",
    "$$"
   ]
  },
  {
   "cell_type": "code",
   "execution_count": 362,
   "id": "8b2e1a66-02f3-4c70-98b9-a01be6bd095f",
   "metadata": {
    "tags": []
   },
   "outputs": [],
   "source": [
    "def liouv_spec_bound(t, J, H_bath, H_self, init_state, A, B):\n",
    "    # Integrate liouv_superop with respect to x, then take the spectral norm, then integrate with respect to y\n",
    "    def inner_integral(y):\n",
    "        # Integrate liouv_superop with respect to x from 0 to y\n",
    "        def integrand(x):\n",
    "            return liouv_superop(y, x, J, H_bath, H_self, init_state, A, B)\n",
    "        \n",
    "        # Using quad_vec with specified tolerances for matrix-valued output\n",
    "        integrated_superop, _ = integrate.quad_vec(integrand, 0, y, epsabs=1e-6, epsrel=1e-6)\n",
    "        \n",
    "        # Calculate spectral norm with np.linalg.norm (2-norm) and handle any small negative values\n",
    "        spectral_norm = np.linalg.norm(integrated_superop, ord=2)\n",
    "        return spectral_norm\n",
    "    \n",
    "    # Integrate the spectral norm over the outer bound with respect to y from 0 to t, with tolerances\n",
    "    result, _ = integrate.quad(inner_integral, 0, t, epsabs=1e-6, epsrel=1e-6)\n",
    "    return result"
   ]
  },
  {
   "cell_type": "markdown",
   "id": "f1f27f50-c3ae-4cc2-bb36-51cde9c4e099",
   "metadata": {},
   "source": [
    "Now we compute the Liouville bound with and without Born approximation"
   ]
  },
  {
   "cell_type": "code",
   "execution_count": null,
   "id": "02d22685-2899-4689-95c9-9084d28e2771",
   "metadata": {
    "tags": []
   },
   "outputs": [
    {
     "name": "stdout",
     "output_type": "stream",
     "text": [
      "0.0\n",
      "0.034482758620689655\n",
      "0.06896551724137931\n",
      "0.10344827586206896\n",
      "0.13793103448275862\n",
      "0.1724137931034483\n",
      "0.20689655172413793\n",
      "0.24137931034482757\n",
      "0.27586206896551724\n",
      "0.3103448275862069\n"
     ]
    }
   ],
   "source": [
    "liouv_bound =[]\n",
    "liouv_born_bound =[]\n",
    "\n",
    "for t in time_points:\n",
    "    rho_t = evolve_density_matrix(rho_initial, H_full, H_sys, H_bath, t)\n",
    "    \n",
    "    # Partial trace to obtain reduced bath state\n",
    "    rho_b = basis_total.partial_trace(\n",
    "        rho_t, \n",
    "        sub_sys_A=\"left\", \n",
    "        return_rdm=\"B\", \n",
    "        enforce_pure=False\n",
    "    )\n",
    "    \n",
    "    \n",
    "    # Calculate Redfield spectral bound\n",
    "    red_bound = liouv_spec_bound(t, J, H_bath, H_sys, rho_b, create_bath, annih_bath)\n",
    "    red_born_bound = liouv_spec_bound(t, J, H_bath, H_sys, rho_bath, create_bath, annih_bath)\n",
    "    print(t)\n",
    "    \n",
    "    \n",
    "    liouv_bound.append(red_bound)\n",
    "    liouv_born_bound.append(red_born_bound)\n",
    "\n",
    "    "
   ]
  },
  {
   "cell_type": "code",
   "execution_count": null,
   "id": "a6b4045e-41ca-4641-bd13-14ab3a99c00a",
   "metadata": {
    "tags": []
   },
   "outputs": [],
   "source": [
    "bound1=[]\n",
    "bound2=[]\n",
    "bound3=[]\n",
    "bound4=[]\n",
    "bound5=[]\n",
    "\n",
    "\"\"\"\n",
    "for b in bound:\n",
    "    bound1.append(np.exp(-2*b))\n",
    "    \n",
    "for b in born_bound:\n",
    "    bound5.append(np.exp(-2*b))\n",
    "    \n",
    "\"\"\"\n",
    "    \n",
    "for b in liouv_bound:\n",
    "    bound2.append(np.exp(-b))\n",
    "    \n",
    "for b in otoc_values:\n",
    "    bound3.append(np.exp(-b))\n",
    "\n",
    "for b in liouv_born_bound:\n",
    "    bound4.append(np.exp(-b))\n",
    "    \n",
    "#plt.plot(tlist,bound1, label='Spectral bound')\n",
    "plt.plot(time_points, otoc_values,label = 'OTOC', color = 'orange')\n",
    "plt.plot(time_points, bound2,label = 'Liouv space', color='blue')\n",
    "\n",
    "plt.plot(time_points, bound4,label = 'Liouv space + Born', color='green')\n",
    "\n",
    "#plt.plot(tlist, bound1,label = 'State space', color = 'Red')\n",
    "#plt.plot(tlist, bound5,label = 'State space + Born', color = 'Black')\n",
    "plt.axhline(y=1/3 ,color='gray', linestyle='--', linewidth=1)\n",
    "\n",
    "plt.ylabel('QSL')\n",
    "plt.xlabel('time')\n",
    "plt.title('Scrambling in TFIM')\n",
    "plt.grid()\n",
    "plt.legend()\n"
   ]
  },
  {
   "cell_type": "code",
   "execution_count": null,
   "id": "2ccdf349-2dbd-4324-a06b-b7caa2d74b75",
   "metadata": {},
   "outputs": [],
   "source": []
  },
  {
   "cell_type": "code",
   "execution_count": null,
   "id": "3da48702-2d83-47e4-83e5-2130a167851a",
   "metadata": {},
   "outputs": [],
   "source": [
    "\"\"\"\n",
    "# -------------------------\n",
    "# Print Results\n",
    "# -------------------------\n",
    "\n",
    "# Print the Hamiltonian\n",
    "print(\"Single-Site Bose-Hubbard Hamiltonian (matrix form):\")\n",
    "print(H_sys.toarray())\n",
    "\n",
    "# Print the basis states for verification\n",
    "print(\"\\nBasis states (n values):\")\n",
    "for state in basis_sys.states:\n",
    "    print(basis_sys.int_to_state(state))\n",
    "\"\"\""
   ]
  }
 ],
 "metadata": {
  "kernelspec": {
   "display_name": "Python 3 (ipykernel)",
   "language": "python",
   "name": "python3"
  },
  "language_info": {
   "codemirror_mode": {
    "name": "ipython",
    "version": 3
   },
   "file_extension": ".py",
   "mimetype": "text/x-python",
   "name": "python",
   "nbconvert_exporter": "python",
   "pygments_lexer": "ipython3",
   "version": "3.11.5"
  }
 },
 "nbformat": 4,
 "nbformat_minor": 5
}
